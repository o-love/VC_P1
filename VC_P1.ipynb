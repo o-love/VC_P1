{
 "cells": [
  {
   "cell_type": "markdown",
   "metadata": {},
   "source": [
    "Paquetes necesarios"
   ]
  },
  {
   "cell_type": "code",
   "execution_count": 1,
   "metadata": {},
   "outputs": [],
   "source": [
    "import cv2  \n",
    "import numpy as np\n",
    "import matplotlib.pyplot as plt"
   ]
  },
  {
   "cell_type": "markdown",
   "metadata": {},
   "source": [
    "Inicializaciones"
   ]
  },
  {
   "cell_type": "code",
   "execution_count": 3,
   "metadata": {},
   "outputs": [],
   "source": [
    "#Dimensiones de la imagen a crear\n",
    "ancho = 200\n",
    "alto = 300"
   ]
  },
  {
   "cell_type": "markdown",
   "metadata": {},
   "source": [
    "Imagen en grises"
   ]
  },
  {
   "cell_type": "code",
   "execution_count": null,
   "metadata": {},
   "outputs": [],
   "source": [
    "#Crea una imagen de un único plano, que se interpreta como nivel de gris (0 negro, 255 blanco)\n",
    "gris_img = np.zeros((ancho,alto,1), dtype = np.uint8)\n",
    "#Muestra dimensiones de la imagen creada\n",
    "print(gris_img.shape)"
   ]
  },
  {
   "cell_type": "markdown",
   "metadata": {},
   "source": [
    "Muestra imagen con imshow (OpenCV) en ventana independiente"
   ]
  },
  {
   "cell_type": "code",
   "execution_count": null,
   "metadata": {},
   "outputs": [],
   "source": [
    "#Muestra la imagen (negra al inicializarse a 0) con las utilidades de OpenCV en una ventana independiente\n",
    "cv2.imshow('Imagen', gris_img)\n",
    "cv2.imshow('Imagen2', gris_img)\n",
    "\n",
    "cv2.waitKey(-1) # Se detiene hasta pulsar tecla (>0 milisegundos)\n",
    "cv2.destroyAllWindows() # Destruye todas las ventanas"
   ]
  },
  {
   "cell_type": "markdown",
   "metadata": {},
   "source": [
    "Muestra imagen con matplotlib"
   ]
  },
  {
   "cell_type": "code",
   "execution_count": null,
   "metadata": {},
   "outputs": [],
   "source": [
    "#Muestra la imagen con matplotlib, aparece integrada en el cuaderno\n",
    "#Es necesario especificar que el mapa de color usado es de grises\n",
    "#plt.imshow(gris_img, cmap='gray')\n",
    "#plt.imshow(gris_img)\n",
    "#plt.show()\n",
    "\n",
    "#replicar una imagen de gris creando una imagen gris pero con tres planos (RGB)\n",
    "img2 = cv2.merge((gris_img,gris_img,gris_img))\n",
    "plt.imshow(img2)\n",
    "plt.show()"
   ]
  },
  {
   "cell_type": "code",
   "execution_count": null,
   "metadata": {},
   "outputs": [],
   "source": [
    "#Modifica un par de zonas rectangulares de la imagen\n",
    "gris_img[:] = 0\n",
    "gris_img[10:20,0:20,0] = 255 #Especifica el canal 0\n",
    "gris_img[110:220,0:20,0] = 28 #\n",
    "#gris_img[50:70,40:60] = 255 #realmente no es necesario con un único plano\n",
    "\n",
    "#Muestra la imagen con matplotlib\n",
    "#Es necesario especificar que el mapa de color usado es de grises\n",
    "plt.imshow(gris_img, cmap='gray')\n",
    "plt.show()"
   ]
  },
  {
   "cell_type": "markdown",
   "metadata": {},
   "source": [
    "Imagen con tono de gris aleatorio"
   ]
  },
  {
   "cell_type": "code",
   "execution_count": null,
   "metadata": {},
   "outputs": [],
   "source": [
    "#Crea imagen con un único plano (gris)\n",
    "gris_img = np.random.randint(255, size=(ancho,alto, 1))\n",
    "#Muestra dimensiones\n",
    "print(gris_img.shape)\n",
    "#Visualiza\n",
    "plt.imshow(gris_img, cmap='gray') #Visualiza con mapa de color gris\n",
    "plt.show()"
   ]
  },
  {
   "cell_type": "markdown",
   "metadata": {},
   "source": [
    "Asignamos valor a los píxeles de una zona concreta"
   ]
  },
  {
   "cell_type": "code",
   "execution_count": null,
   "metadata": {},
   "outputs": [],
   "source": [
    "#Modifica la primera mitad de la imagen, asignando 255, es decir blanco\n",
    "gris_img[0:int(alto/2),:,:] = 255\n",
    "#Visualiza con mapa de color gris\n",
    "plt.imshow(gris_img, cmap='gray') #Te animo a probar a eliminar la especificación del mapa de color\n",
    "plt.show()"
   ]
  },
  {
   "cell_type": "markdown",
   "metadata": {},
   "source": [
    "TAREA: Crea una imagen, p.e. 800x800, con la textura del tablero de ajedrez"
   ]
  },
  {
   "cell_type": "markdown",
   "metadata": {},
   "source": [
    "Imagen en color"
   ]
  },
  {
   "cell_type": "code",
   "execution_count": 4,
   "metadata": {},
   "outputs": [
    {
     "name": "stdout",
     "output_type": "stream",
     "text": [
      "(200, 200, 3)\n"
     ]
    },
    {
     "data": {
      "image/png": "[encoded data removed]",
      "text/plain": [
       "<Figure size 640x480 with 1 Axes>"
      ]
     },
     "metadata": {},
     "output_type": "display_data"
    }
   ],
   "source": [
    "#Crea una imagen con tres planos\n",
    "\n",
    "board_size = 200\n",
    "\n",
    "color_img = np.zeros((board_size,board_size,3), dtype = np.uint8)\n",
    "#Dimensiones\n",
    "print(color_img.shape)\n",
    "#Visualiza sin especificar el mapa de color gris\n",
    "plt.imshow(color_img) \n",
    "plt.show()\n"
   ]
  },
  {
   "cell_type": "code",
   "execution_count": 5,
   "metadata": {},
   "outputs": [
    {
     "data": {
      "image/png": "[encoded data removed]",
      "text/plain": [
       "<Figure size 640x480 with 1 Axes>"
      ]
     },
     "metadata": {},
     "output_type": "display_data"
    }
   ],
   "source": [
    "#Modifica el primer plano de color (Rojo, ya que es RGB)\n",
    "#color_img[:,:,0] = 255 \n",
    "#color_img[:,:,1] = 200 #Prueba otras combinaciones\n",
    "#color_img[:,:,2] = 255 \n",
    "\n",
    "cell_size = board_size//8\n",
    "\n",
    "for row in range(0, 8):\n",
    "    for column in range (0, 4):\n",
    "        start_x = cell_size * 2*column\n",
    "        if row % 2 == 1:\n",
    "            start_x += cell_size\n",
    "\n",
    "        end_x = start_x + cell_size\n",
    "\n",
    "        start_y = cell_size * row\n",
    "        end_y = start_y + cell_size\n",
    "\n",
    "        color_img[start_x:end_x, start_y:end_y,:] = 255\n",
    "\n",
    "plt.imshow(color_img) \n",
    "plt.show()"
   ]
  },
  {
   "cell_type": "markdown",
   "metadata": {},
   "source": [
    "TAREA: Crear una imagen estilo Mondrian (un ejemplo https://www3.gobiernodecanarias.org/medusa/ecoescuela/sa/2017/04/17/descubriendo-a-mondrian/ )"
   ]
  },
  {
   "cell_type": "code",
   "execution_count": 23,
   "metadata": {},
   "outputs": [
    {
     "data": {
      "image/png": "[encoded data removed]",
      "text/plain": [
       "<Figure size 640x480 with 1 Axes>"
      ]
     },
     "metadata": {},
     "output_type": "display_data"
    }
   ],
   "source": [
    "#Crea una imagen con tres planos\n",
    "color_img = np.zeros((200,190,3), dtype = np.uint8)\n",
    "\n",
    "color_img[0:50, 0:50, 2] = 255\n",
    "\n",
    "color_img[0:50, 60:110, 1] = 255\n",
    "color_img[0:50, 60:110, 2] = 100\n",
    "\n",
    "color_img[0:50, 120:190, 0] = 180\n",
    "color_img[0:50, 120:190, 2] = 200\n",
    "\n",
    "color_img[60:85, 0:190, 1] = 160\n",
    "\n",
    "\n",
    "\n",
    "color_img[95:145, 60:110, 0] = 180\n",
    "color_img[95:145, 60:110, 2] = 200\n",
    "\n",
    "color_img[95:145, 0:50, 0] = 180\n",
    "color_img[95:145, 0:50, 1] = 200\n",
    "\n",
    "color_img[155:200, 0:110, 2] = 180\n",
    "color_img[155:200, 0:110, 2] = 200\n",
    "\n",
    "color_img[95:200, 120:190, 1] = 180\n",
    "color_img[95:200, 120:190, 2] = 200\n",
    "\n",
    "\n",
    "#Visualiza sin especificar el mapa de color gris\n",
    "plt.imshow(color_img) \n",
    "plt.show()\n"
   ]
  },
  {
   "cell_type": "markdown",
   "metadata": {},
   "source": [
    "Funciones de dibujo.\n",
    "OpenCV dispone de distintas funciones específicas para dibujar formas básicas (más información https://docs.opencv.org/4.x/dc/da5/tutorial_py_drawing_functions.html )"
   ]
  },
  {
   "cell_type": "code",
   "execution_count": null,
   "metadata": {},
   "outputs": [],
   "source": [
    "#Crea una imagen con tres planos\n",
    "color_img = np.zeros((200,200,3), dtype = np.uint8)\n",
    "\n",
    "#Línea roja vertical de grosor 3\n",
    "cv2.line(color_img,(70,0),(70,alto),(255,0,0),3)\n",
    "\n",
    "cv2.rectangle(color_img,(10, 10),(60,80),(0,0,255),-1)\n",
    "\n",
    "cv2.rectangle(color_img,(10,90),(160,120),(255,255,0),-1)\n",
    "\n",
    "cv2.rectangle(color_img,(170,90),(190,150),(255,255,255),-1)\n",
    "\n",
    "cv2.rectangle(color_img,(83,130),(160,190),(255,255,255),-1)\n",
    "\n",
    "cv2.ellipse(color_img, (35, 160), (20, 30), 0, 0, 360, (0,255,0), -1)\n",
    "\n",
    "#Círculo de radio 15 relleno\n",
    "cv2.circle(color_img,(100,40), 15, (0,0,255), -1)\n",
    "\n",
    "\n",
    "\n",
    "#Visualiza sin especificar el mapa de color gris\n",
    "plt.imshow(color_img) \n",
    "plt.show()\n",
    "\n",
    "\n",
    "#Salva la imagen resultante a disco\n",
    "cv2.imwrite('imagen.jpg', color_img)"
   ]
  },
  {
   "cell_type": "markdown",
   "metadata": {},
   "source": [
    "TAREA: Resuelve una de las tareas previas (a elegir) con las funciones de dibujo de OpenCV  "
   ]
  },
  {
   "cell_type": "code",
   "execution_count": null,
   "metadata": {},
   "outputs": [],
   "source": [
    "cell_size = board_size//8\n",
    "\n",
    "for row in range(0, 8):\n",
    "    for column in range (0, 4):\n",
    "        start_x = cell_size * 2*column\n",
    "        if row % 2 == 1:\n",
    "            start_x += cell_size\n",
    "\n",
    "        end_x = start_x + cell_size\n",
    "\n",
    "        start_y = cell_size * row\n",
    "        end_y = start_y + cell_size\n",
    "\n",
    "        cv2.rectangle(color_img, (start_x, start_y), (end_x, end_y), (255,255,255), -1)\n",
    "\n",
    "plt.imshow(color_img) \n",
    "plt.show()\n"
   ]
  },
  {
   "cell_type": "code",
   "execution_count": null,
   "metadata": {},
   "outputs": [],
   "source": [
    "#Crea una imagen con tres planos\n",
    "color_img = np.zeros((200,200,3), dtype = np.uint8)\n",
    "\n",
    "#Línea roja vertical de grosor 3\n",
    "cv2.line(color_img,(70,0),(70,alto),(255,0,0),3)\n",
    "\n",
    "cv2.rectangle(color_img,(10, 10),(60,80),(0,0,255),-1)\n",
    "\n",
    "cv2.rectangle(color_img,(10,90),(160,120),(255,255,0),-1)\n",
    "\n",
    "cv2.rectangle(color_img,(170,90),(190,150),(255,255,255),-1)\n",
    "\n",
    "cv2.rectangle(color_img,(83,130),(160,190),(255,255,255),-1)\n",
    "\n",
    "cv2.ellipse(color_img, (35, 160), (20, 30), 0, 0, 360, (0,255,0), -1)\n",
    "\n",
    "#Círculo de radio 15 relleno\n",
    "cv2.circle(color_img,(100,40), 15, (0,0,255), -1)\n",
    "\n",
    "\n",
    "\n",
    "#Visualiza sin especificar el mapa de color gris\n",
    "plt.imshow(color_img) \n",
    "plt.show()\n",
    "\n",
    "\n",
    "#Salva la imagen resultante a disco\n",
    "cv2.imwrite('imagen.jpg', color_img)"
   ]
  },
  {
   "cell_type": "markdown",
   "metadata": {},
   "source": [
    "Abrir imagen almacenada en disco"
   ]
  },
  {
   "cell_type": "code",
   "execution_count": null,
   "metadata": {},
   "outputs": [],
   "source": [
    "#Carga imagen desde disco\n",
    "img = cv2.imread('logo_ulpgc_vertical_acronimo_mancheta_azul.png') \n",
    "#Dimensiones\n",
    "print(img.shape)\n",
    "#Muestra\n",
    "plt.imshow(img) \n",
    "plt.show()\n",
    "\n",
    "#OpenCV lee las imágenes de disco en formato BGR, por lo que convertimos para visualizr RGB\n",
    "img_rgb = cv2.cvtColor(img, cv2.COLOR_BGR2RGB)\n",
    "plt.imshow(img_rgb) \n",
    "plt.show()\n",
    "\n",
    "#Fuerza lectura en grises\n",
    "img = cv2.imread('logo_ulpgc_vertical_acronimo_mancheta_azul.png', cv2.IMREAD_GRAYSCALE) \n",
    "plt.imshow(img, cmap='gray') \n",
    "plt.show()\n"
   ]
  },
  {
   "cell_type": "markdown",
   "metadata": {},
   "source": [
    "Abre un archivo de vídeo"
   ]
  },
  {
   "cell_type": "code",
   "execution_count": null,
   "metadata": {},
   "outputs": [],
   "source": [
    "vid = cv2.VideoCapture('Ayagaures_vibe_result.mp4') #Busca n vídeo propio\n",
    "  \n",
    "while(True):      \n",
    "    # fotograma a fotograma\n",
    "    ret, frame = vid.read()\n",
    "\n",
    "    if ret:  \n",
    "        # Muestra fotograma\n",
    "        cv2.imshow('Vid', frame)\n",
    "    \n",
    "    # Detenemos pulsado ESC\n",
    "    if cv2.waitKey(1000) == 27:\n",
    "        break\n",
    "  \n",
    "# Libera el objeto de captura\n",
    "vid.release()\n",
    "# Destruye ventanas\n",
    "cv2.destroyAllWindows()"
   ]
  },
  {
   "cell_type": "markdown",
   "metadata": {},
   "source": [
    "Muestra entrada de la cámara"
   ]
  },
  {
   "cell_type": "code",
   "execution_count": null,
   "metadata": {},
   "outputs": [],
   "source": [
    "vid = cv2.VideoCapture(0)\n",
    "  \n",
    "while(True):      \n",
    "    # fotograma a fotograma\n",
    "    ret, frame = vid.read()\n",
    "  \n",
    "    if ret:  \n",
    "        # Muestra fotograma\n",
    "        cv2.imshow('Vid', frame)\n",
    "    \n",
    "    # Detenemos pulsado ESC\n",
    "    if cv2.waitKey(20) == 27:\n",
    "        break\n",
    "  \n",
    "# Libera el objeto de captura\n",
    "vid.release()\n",
    "# Destruye ventanas\n",
    "cv2.destroyAllWindows()"
   ]
  },
  {
   "cell_type": "markdown",
   "metadata": {},
   "source": [
    "Separa los tres planos de la imagen captada por la webcam"
   ]
  },
  {
   "cell_type": "code",
   "execution_count": 5,
   "metadata": {},
   "outputs": [],
   "source": [
    "vid = cv2.VideoCapture(0)\n",
    "  \n",
    "while(True):      \n",
    "    # fotograma a fotograma\n",
    "    ret, frame = vid.read()\n",
    "\n",
    "    if ret:\n",
    "        #Separamos canales\n",
    "        b = frame[:,:,0]\n",
    "        g = frame[:,:,1]\n",
    "        r = frame[:,:,2]\n",
    "        #Dimensiones\n",
    "        h, w, c = frame.shape\n",
    "\n",
    "        #Concateamos en horizontal los tres planos del fotograma\n",
    "        collage = np.hstack((r, g, b))\n",
    "    \n",
    "        # Muestra fotograma redimensionando a la mitad para que quepa en pantalla\n",
    "        cv2.imshow('Cam3', cv2.resize(collage, (int(w*1.5),int(h/2)),cv2.INTER_NEAREST))\n",
    "    \n",
    "    # Detenemos pulsado ESC\n",
    "    if cv2.waitKey(20) == 27:\n",
    "        break\n",
    "  \n",
    "# Libera el objeto de captura\n",
    "vid.release()\n",
    "# Destruye ventanas\n",
    "cv2.destroyAllWindows()"
   ]
  },
  {
   "cell_type": "markdown",
   "metadata": {},
   "source": [
    "TAREA: Modifica de alguna forma los valores de un plano de la imagen"
   ]
  },
  {
   "cell_type": "code",
   "execution_count": 6,
   "metadata": {},
   "outputs": [],
   "source": [
    "vid = cv2.VideoCapture(0)\n",
    "  \n",
    "while(True):      \n",
    "    # fotograma a fotograma\n",
    "    ret, frame = vid.read()\n",
    "\n",
    "    if ret:\n",
    "        #Separamos canales\n",
    "        b = frame[:,:,0]\n",
    "        g = frame[:,:,1] \n",
    "        r = frame[:,:,2]\n",
    "\n",
    "        g = 60 + r - b \n",
    "        #Dimensiones\n",
    "        h, w, c = frame.shape\n",
    "\n",
    "        #Concateamos en horizontal los tres planos del fotograma\n",
    "        collage = np.hstack((r, g, b))\n",
    "    \n",
    "        # Muestra fotograma redimensionando a la mitad para que quepa en pantalla\n",
    "        cv2.imshow('Cam3', cv2.resize(collage, (int(w*1.5),int(h/2)),cv2.INTER_NEAREST))\n",
    "    \n",
    "    # Detenemos pulsado ESC\n",
    "    if cv2.waitKey(20) == 27:\n",
    "        break\n",
    "  \n",
    "# Libera el objeto de captura\n",
    "vid.release()\n",
    "# Destruye ventanas\n",
    "cv2.destroyAllWindows()"
   ]
  },
  {
   "cell_type": "markdown",
   "metadata": {},
   "source": [
    "Evento de ratón para mostrar el valor RGB del píxel"
   ]
  },
  {
   "cell_type": "code",
   "execution_count": null,
   "metadata": {},
   "outputs": [],
   "source": [
    "# Función que trata eventos de ratón \n",
    "def mouse_events(event, x, y, flags, params):\n",
    "    global px, py, R, G, B, click_locations\n",
    "    px = -1\n",
    "    # Movimiento del puntero     \n",
    "    if event==cv2.EVENT_MOUSEMOVE:\n",
    "        #Valores del píxel\n",
    "        B = frame[y, x, 0]\n",
    "        G = frame[y, x, 1]\n",
    "        R = frame[y, x, 2]  \n",
    "\n",
    "        px = x\n",
    "        py = y\n",
    "\n",
    "    if event==cv2.EVENT_LBUTTONDOWN:\n",
    "        click_locations.append((x,y))\n",
    " "
   ]
  },
  {
   "cell_type": "code",
   "execution_count": null,
   "metadata": {},
   "outputs": [],
   "source": [
    "click_locations = []\n",
    "\n",
    "vid = cv2.VideoCapture(0)\n",
    "\n",
    "# Tipografía para mostrar texto\n",
    "font = cv2.FONT_HERSHEY_SIMPLEX\n",
    "  \n",
    "lanzado = 0\n",
    "px = -1\n",
    "while(True):      \n",
    "    # fotograma a fotograma\n",
    "    ret, frame = vid.read()\n",
    "\n",
    "    if ret: \n",
    "        # Activa em manejador en el primer fotograma\n",
    "        if lanzado == 0:\n",
    "            # Muestra fotograma\n",
    "            cv2.imshow('Cam', frame)   \n",
    "            # Define el nombre del manejador del evento\n",
    "            cv2.setMouseCallback('Cam', mouse_events)\n",
    "            lanzado = 1\n",
    "            \n",
    "        # Muestra valores RGB intentando centrar en el puntero\n",
    "        if px > -1:\n",
    "            cv2.putText(frame, '{}'.format(R), (px-45,py-5), font, 0.5, (0, 0, 255), 1)\n",
    "            cv2.putText(frame, '     {}'.format(G), (px-54,py-5), font, 0.5, (0, 255, 0), 1)\n",
    "            cv2.putText(frame, '         {}'.format(B), (px-54,py-5), font, 0.5, (255, 0, 0), 1)\n",
    "            \n",
    "        for pos in click_locations:\n",
    "            cv2.circle(frame, pos, 20, (255,0,0), -1)\n",
    "\n",
    "        cv2.imshow('Cam', frame)   \n",
    "        \n",
    "    # Detenemos pulsado ESC\n",
    "    if cv2.waitKey(20) == 27:\n",
    "        break\n",
    "  \n",
    "# Libera el objeto de captura\n",
    "vid.release()\n",
    "# Destruye ventanas\n",
    "cv2.destroyAllWindows()"
   ]
  },
  {
   "cell_type": "markdown",
   "metadata": {},
   "source": [
    "TAREA:\n",
    "Pintar círculos en las posiciones del píxel más claro y oscuro de la imagen \n",
    "¿Si quisieras hacerlo sobre la zona 8x8 más clara/oscura?"
   ]
  },
  {
   "cell_type": "code",
   "execution_count": 10,
   "metadata": {},
   "outputs": [],
   "source": [
    "vid = cv2.VideoCapture(0)\n",
    "\n",
    "while(True):      \n",
    "    # fotograma a fotograma\n",
    "    ret, frame = vid.read()\n",
    "\n",
    "    if ret: \n",
    "        grey_frame = cv2.cvtColor(frame.copy(), cv2.COLOR_BGR2GRAY)\n",
    "\n",
    "        darkest_pixels = np.min(grey_frame)\n",
    "        pos = np.where(grey_frame == darkest_pixels)\n",
    "\n",
    "        cv2.circle(frame, (pos[1][0], pos[0][0]), 10, (0,0,255), -1)\n",
    "\n",
    "\n",
    "        lightest_pixels = np.max(grey_frame)\n",
    "        pos = np.where(grey_frame == lightest_pixels)\n",
    "\n",
    "        cv2.circle(frame, (pos[1][0], pos[0][0]), 10, (255,0,0), -1)\n",
    "\n",
    "        cv2.imshow('Cam', frame)   \n",
    "        \n",
    "    # Detenemos pulsado ESC\n",
    "    if cv2.waitKey(20) == 27:\n",
    "        break\n",
    "  \n",
    "# Libera el objeto de captura\n",
    "vid.release()\n",
    "# Destruye ventanas\n",
    "cv2.destroyAllWindows()"
   ]
  },
  {
   "cell_type": "code",
   "execution_count": null,
   "metadata": {},
   "outputs": [],
   "source": [
    "vid = cv2.VideoCapture(0)\n",
    "\n",
    "while(True):      \n",
    "    # fotograma a fotograma\n",
    "    ret, frame = vid.read()\n",
    "\n",
    "    if ret: \n",
    "        grey_frame = cv2.cvtColor(frame.copy(), cv2.COLOR_BGR2GRAY)\n",
    "\n",
    "        darkest_pixels = np.min(grey_frame)\n",
    "        pos = np.where(grey_frame == darkest_pixels)\n",
    "\n",
    "        cv2.circle(frame, (pos[1][0], pos[0][0]), 10, (0,0,255), -1)\n",
    "\n",
    "\n",
    "        lightest_pixels = np.max(grey_frame)\n",
    "        pos = np.where(grey_frame == lightest_pixels)\n",
    "\n",
    "        cv2.circle(frame, (pos[1][0], pos[0][0]), 10, (255,0,0), -1)\n",
    "\n",
    "        cv2.imshow('Cam', frame)   \n",
    "        \n",
    "    # Detenemos pulsado ESC\n",
    "    if cv2.waitKey(20) == 27:\n",
    "        break\n",
    "  \n",
    "# Libera el objeto de captura\n",
    "vid.release()\n",
    "# Destruye ventanas\n",
    "cv2.destroyAllWindows()"
   ]
  },
  {
   "cell_type": "markdown",
   "metadata": {},
   "source": [
    "Pop art\n",
    "Salida de la webcam \"inspirada\" en Andy Warhol"
   ]
  },
  {
   "cell_type": "code",
   "execution_count": 7,
   "metadata": {},
   "outputs": [],
   "source": [
    "vid = cv2.VideoCapture(0)\n",
    "\n",
    "#Dimensiones de la cámara\n",
    "w = int(vid.get(cv2.CAP_PROP_FRAME_WIDTH))\n",
    "h = int(vid.get(cv2.CAP_PROP_FRAME_HEIGHT))\n",
    "\n",
    "#Fuerzo a mitad de resolución para ocupar menos pantalla\n",
    "w=int(w/2)\n",
    "h=int(h/2)\n",
    "vid.set(cv2.CAP_PROP_FRAME_WIDTH, w) #En Mac no reacciona a estos comandos\n",
    "vid.set(cv2.CAP_PROP_FRAME_HEIGHT, h)\n",
    "\n",
    "#Imagen conjunta 2x original\n",
    "collage = np.zeros((h*2,w*2,3), dtype = np.uint8)\n",
    "tl = collage[0:h,0:w]\n",
    "tr = collage[0:h,w:w+w]\n",
    "bl = collage[h:h+h,0:w]\n",
    "br = collage[h:h+h,w:w+w]\n",
    "\n",
    "while True:      \n",
    "    # fotograma a fotograma\n",
    "    ret, frameIN = vid.read()\n",
    "\n",
    "    #Menor tamaño\n",
    "    frame = cv2.resize(frameIN, (int(w),int(h)),cv2.INTER_NEAREST)\n",
    "\n",
    "    if ret:\n",
    "        #Separamos canales\n",
    "        r = frame[:,:,2]\n",
    "        g = frame[:,:,1]\n",
    "        b = frame[:,:,0]\n",
    "\n",
    "        #Jugamos\n",
    "        tl[:,:,0] = b\n",
    "        tl[:,:,1] = g\n",
    "        tl[:,:,2] = r\n",
    "\n",
    "        tr[:,:,0] = 255 - r\n",
    "        tr[:,:,1] = g\n",
    "        tr[:,:,2] = b\n",
    "        \n",
    "        bl[:,:,0] = r\n",
    "        bl[:,:,1] = 255 - b\n",
    "        bl[:,:,2] = g\n",
    "\n",
    "        br[:,:,0] = b\n",
    "        br[:,:,1] = g\n",
    "        br[:,:,2] = 255 - r\n",
    "    \n",
    "        # Muestra composicion\n",
    "        cv2.imshow('Cam', collage)\n",
    "    \n",
    "    # Detenemos pulsado ESC\n",
    "    if cv2.waitKey(20) == 27:\n",
    "        break\n",
    "  \n",
    "# Libera el objeto de captura\n",
    "vid.release()\n",
    "# Destruye ventanas\n",
    "cv2.destroyAllWindows()"
   ]
  },
  {
   "cell_type": "markdown",
   "metadata": {},
   "source": [
    "Transformando la imagen capturada en una colección de círculos, cuyo radio depende de la intensidad promedio de la zona"
   ]
  },
  {
   "cell_type": "code",
   "execution_count": null,
   "metadata": {},
   "outputs": [],
   "source": [
    "vid = cv2.VideoCapture(0)\n",
    "\n",
    "ncells = 10\n",
    "off = int(ncells/2)\n",
    "  \n",
    "while(True):      \n",
    "    # fotograma a fotograma\n",
    "    ret, frame = vid.read()\n",
    "\n",
    "    if ret:\n",
    "        #Dimensiones originales\n",
    "        h, w, c = frame.shape\n",
    "        #Redimensiono\n",
    "        down_frame = cv2.resize(frame, (int(w/ncells),int(h/ncells)),cv2.INTER_NEAREST)\n",
    "        #Dimensiones reducidas\n",
    "        h2, w2, c2 = down_frame.shape\n",
    "\n",
    "        #Separamos canales\n",
    "        r = down_frame[:,:,0]\n",
    "        g = down_frame[:,:,1]\n",
    "        b = down_frame[:,:,2]\n",
    "\n",
    "        # Creamos imagen negra\n",
    "        gris_up_frame = np.zeros((h2*ncells,w2*ncells,1), dtype = np.uint8)\n",
    "\n",
    "        for y in range(0,h2):\n",
    "            for x in range(0,w2):\n",
    "                # La suma de los valores RGB define el radio del círculo\n",
    "                rad = int ( (r[y,x] + g[y,x] + b[y,x])/(ncells*3*2))\n",
    "                cv2.circle(gris_up_frame,(x*ncells+off, y*ncells + off), rad, (255,255,255), -1)\n",
    "\n",
    "    \n",
    "        # Muestra fotograma resultante\n",
    "        cv2.imshow('Cam', gris_up_frame)\n",
    "    \n",
    "    # Detenemos pulsado ESC\n",
    "    if cv2.waitKey(20) == 27:\n",
    "        break\n",
    "  \n",
    "# Libera el objeto de captura\n",
    "vid.release()\n",
    "# Destruye ventanas\n",
    "cv2.destroyAllWindows()"
   ]
  },
  {
   "cell_type": "markdown",
   "metadata": {},
   "source": [
    "TAREA: Haz tu propuesta pop art"
   ]
  }
 ],
 "metadata": {
  "kernelspec": {
   "display_name": "Python 3.7.3 ('FACES')",
   "language": "python",
   "name": "python3"
  },
  "language_info": {
   "codemirror_mode": {
    "name": "ipython",
    "version": 3
   },
   "file_extension": ".py",
   "mimetype": "text/x-python",
   "name": "python",
   "nbconvert_exporter": "python",
   "pygments_lexer": "ipython3",
   "version": "3.11.5"
  },
  "orig_nbformat": 4,
  "vscode": {
   "interpreter": {
    "hash": "ea3a1ee99ce326e593ddb52cd278556d527fcb6552c40e2a47b1efb9d0183637"
   }
  }
 },
 "nbformat": 4,
 "nbformat_minor": 2
}
